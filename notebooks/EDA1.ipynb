{
 "cells": [
  {
   "cell_type": "code",
   "execution_count": 1,
   "metadata": {},
   "outputs": [],
   "source": [
    "import pandas as pd\n",
    "import os\n",
    "import json\n",
    "import seaborn as sns\n",
    "import matplotlib.pyplot as plt\n",
    "import re"
   ]
  },
  {
   "cell_type": "markdown",
   "metadata": {},
   "source": [
    "THE MAIN FINDINGS AND CONCLUSIONS IN THIS NOTEBOOK:\n",
    "\n",
    "1. Price Reductions: Approximately one-third of the listings have reduced their prices. There is a corresponding column labeled \"listingUpdateReason\" that captures this information. This indicates that predictions model must take into account how long a flat was on portal before it's available date. \n",
    "\n",
    "2. Transportation Information: The dataset contains detailed transportation information, including the names, distances, and types of the three nearest stations. This richness could be valuable for location-based analyses.\n",
    "\n",
    "3. Council Tax and Property Size: Data on council tax and property size is incomplete, with about half of the entries missing. However, these columns hold potential for estimation and could be useful if completed or imputed accurately.\n",
    "\n",
    "4. Exclusion of Images and Schools: So far, images and school-related data have been excluded from the analysis. These could be explored in future iterations for additional insights.\n",
    "\n",
    "5. The amount of scrapped data was almost equal to the expected size for London available in RightMove, meaning Apify is a reliable scrapping data source."
   ]
  },
  {
   "cell_type": "markdown",
   "metadata": {},
   "source": [
    "# Data Loading"
   ]
  },
  {
   "cell_type": "code",
   "execution_count": 2,
   "metadata": {},
   "outputs": [
    {
     "name": "stderr",
     "output_type": "stream",
     "text": [
      "/tmp/ipykernel_48167/2838598598.py:55: FutureWarning: The behavior of DataFrame concatenation with empty or all-NA entries is deprecated. In a future version, this will no longer exclude empty or all-NA columns when determining the result dtypes. To retain the old behavior, exclude the relevant entries before the concat operation.\n",
      "  df = pd.concat(datasets)\n"
     ]
    }
   ],
   "source": [
    "# data location\n",
    "\n",
    "data_dir = \"../data/raw\"\n",
    "json_files = [os.path.join(data_dir, file) for file in os.listdir(data_dir) if file.endswith(('.json'))]\n",
    "\n",
    "\n",
    "def get_stations(data):\n",
    "    \"Function gets 3 nearest stations for each property from data, which is list of property jsons\"\n",
    "    processed_data = []\n",
    "    for entry in data:\n",
    "        station_data = entry['nearestStations']\n",
    "        flattened_data = {\n",
    "            f'station_name{i+1}': station['name'] for i, station in enumerate(station_data)\n",
    "             }\n",
    "        flattened_data.update({\n",
    "        f'distance_to_station{i+1}': station['distance'] for i, station in enumerate(station_data)\n",
    "             })\n",
    "        flattened_data.update({\n",
    "        f'station_type{i+1}': station['types'] for i, station in enumerate(station_data)\n",
    "             })\n",
    "        processed_data.append(flattened_data)\n",
    "    \n",
    "    return pd.DataFrame(processed_data)\n",
    "\n",
    "\n",
    "def get_coordinates(data):\n",
    "    \n",
    "    processed_data = []\n",
    "\n",
    "    for entry in data:\n",
    "        coordinates = entry['coordinates']\n",
    "        flattened_data = {\n",
    "            f'latitude': coordinates['latitude']\n",
    "             }\n",
    "        flattened_data.update({f'longitude': coordinates['longitude']}\n",
    "           )\n",
    "        processed_data.append(flattened_data)\n",
    "        \n",
    "    return pd.DataFrame(processed_data)\n",
    "\n",
    "\n",
    "datasets = []\n",
    "\n",
    "for batch in json_files:\n",
    "    with open(batch, 'r') as file:\n",
    "        \n",
    "        js = json.load(file)\n",
    "        dfs = pd.DataFrame(js)\n",
    "        coord = get_coordinates(js)\n",
    "        stations = get_stations(js)\n",
    "        dfs = pd.concat([dfs,coord,stations],axis=1)\n",
    "        datasets.append(dfs)\n",
    "        \n",
    "        \n",
    "df = pd.concat(datasets)\n",
    "df = df.drop([\"coordinates\",\"nearestStations\"],axis=1) #  these were processed by the above functions \n",
    "df = df.drop_duplicates(subset=\"id\")\n",
    "df = df.set_index(\"id\")  #  id is the unique property rightmove identifier \n"
   ]
  },
  {
   "cell_type": "markdown",
   "metadata": {},
   "source": [
    "# Data Cleaning"
   ]
  },
  {
   "cell_type": "code",
   "execution_count": 3,
   "metadata": {},
   "outputs": [
    {
     "data": {
      "text/plain": [
       "(31434, 66)"
      ]
     },
     "execution_count": 3,
     "metadata": {},
     "output_type": "execute_result"
    }
   ],
   "source": [
    "df.shape"
   ]
  },
  {
   "cell_type": "markdown",
   "metadata": {},
   "source": [
    "![Alt Text](/home/zcemg08/projects/AIRFLOW_DATA_PROPERTIES/images/expected_df_size.png)\n"
   ]
  },
  {
   "cell_type": "markdown",
   "metadata": {},
   "source": [
    "Finding.1  The number of rows as expected -> aplify reliable "
   ]
  },
  {
   "cell_type": "code",
   "execution_count": 4,
   "metadata": {},
   "outputs": [
    {
     "data": {
      "text/html": [
       "<div>\n",
       "<style scoped>\n",
       "    .dataframe tbody tr th:only-of-type {\n",
       "        vertical-align: middle;\n",
       "    }\n",
       "\n",
       "    .dataframe tbody tr th {\n",
       "        vertical-align: top;\n",
       "    }\n",
       "\n",
       "    .dataframe thead th {\n",
       "        text-align: right;\n",
       "    }\n",
       "</style>\n",
       "<table border=\"1\" class=\"dataframe\">\n",
       "  <thead>\n",
       "    <tr style=\"text-align: right;\">\n",
       "      <th></th>\n",
       "      <th>Column</th>\n",
       "      <th>Missing Values</th>\n",
       "    </tr>\n",
       "  </thead>\n",
       "  <tbody>\n",
       "    <tr>\n",
       "      <th>27</th>\n",
       "      <td>groundRentPercentageIncrease</td>\n",
       "      <td>31429</td>\n",
       "    </tr>\n",
       "    <tr>\n",
       "      <th>26</th>\n",
       "      <td>groundRentReviewPeriodInYears</td>\n",
       "      <td>30937</td>\n",
       "    </tr>\n",
       "    <tr>\n",
       "      <th>34</th>\n",
       "      <td>tenure</td>\n",
       "      <td>30026</td>\n",
       "    </tr>\n",
       "    <tr>\n",
       "      <th>25</th>\n",
       "      <td>annualGroundRent</td>\n",
       "      <td>29776</td>\n",
       "    </tr>\n",
       "    <tr>\n",
       "      <th>30</th>\n",
       "      <td>domesticRates</td>\n",
       "      <td>29612</td>\n",
       "    </tr>\n",
       "    <tr>\n",
       "      <th>28</th>\n",
       "      <td>annualServiceCharge</td>\n",
       "      <td>29025</td>\n",
       "    </tr>\n",
       "    <tr>\n",
       "      <th>35</th>\n",
       "      <td>yearsRemainingOnLease</td>\n",
       "      <td>28871</td>\n",
       "    </tr>\n",
       "    <tr>\n",
       "      <th>19</th>\n",
       "      <td>minimumTermInMonths</td>\n",
       "      <td>26234</td>\n",
       "    </tr>\n",
       "    <tr>\n",
       "      <th>53</th>\n",
       "      <td>sizeSqFeetMax</td>\n",
       "      <td>19892</td>\n",
       "    </tr>\n",
       "    <tr>\n",
       "      <th>52</th>\n",
       "      <td>sizeSqFeetMin</td>\n",
       "      <td>19892</td>\n",
       "    </tr>\n",
       "  </tbody>\n",
       "</table>\n",
       "</div>"
      ],
      "text/plain": [
       "                           Column  Missing Values\n",
       "27   groundRentPercentageIncrease           31429\n",
       "26  groundRentReviewPeriodInYears           30937\n",
       "34                         tenure           30026\n",
       "25               annualGroundRent           29776\n",
       "30                  domesticRates           29612\n",
       "28            annualServiceCharge           29025\n",
       "35          yearsRemainingOnLease           28871\n",
       "19            minimumTermInMonths           26234\n",
       "53                  sizeSqFeetMax           19892\n",
       "52                  sizeSqFeetMin           19892"
      ]
     },
     "execution_count": 4,
     "metadata": {},
     "output_type": "execute_result"
    }
   ],
   "source": [
    "# For each column in dataframe show the number of missing values in descending order\n",
    "\n",
    "missing_values = df.isna().sum()\n",
    "missing_values_table = missing_values.reset_index()\n",
    "missing_values_table.columns = ['Column', 'Missing Values']\n",
    "missing_values_table = missing_values_table.sort_values(by='Missing Values', ascending=False)\n",
    "missing_values_table.iloc[:10]"
   ]
  },
  {
   "cell_type": "code",
   "execution_count": 5,
   "metadata": {},
   "outputs": [],
   "source": [
    "# Remove columns (>95% empty in dataset)\n",
    "\n",
    "df = df.drop([\"groundRentPercentageIncrease\", \n",
    "              \"groundRentReviewPeriodInYears\",\n",
    "              \"tenure\",\n",
    "              \"annualGroundRent\",\n",
    "              \"domesticRates\", \n",
    "              \"annualServiceCharge\",\n",
    "              \"yearsRemainingOnLease\", \n",
    "              \"minimumTermInMonths\"],axis=1)"
   ]
  },
  {
   "cell_type": "code",
   "execution_count": 6,
   "metadata": {},
   "outputs": [
    {
     "data": {
      "text/plain": [
       "Index(['url', 'title', 'displayAddress', 'countryCode', 'deliveryPointId',\n",
       "       'ukCountry', 'outcode', 'incode', 'bathrooms', 'bedrooms', 'agent',\n",
       "       'agentPhone', 'agentLogo', 'agentDisplayAddress', 'propertyType',\n",
       "       'price', 'secondaryPrice', 'letAvailableDate', 'deposit', 'letType',\n",
       "       'furnishType', 'type', 'councilTaxExempt', 'councilTaxIncluded',\n",
       "       'councilTaxBand', 'description', 'descriptionHtml', 'features',\n",
       "       'images', 'brochures', 'floorplans', 'epc', 'published', 'archived',\n",
       "       'sold', 'tags', 'agentProfileUrl', 'agentListingsUrl',\n",
       "       'agentDescriptionHtml', 'listingUpdateReason', 'listingUpdateDate',\n",
       "       'firstVisibleDate', 'displayStatus', 'addedOn', 'sizeSqFeetMin',\n",
       "       'sizeSqFeetMax', 'latitude', 'longitude', 'station_name1',\n",
       "       'station_name2', 'station_name3', 'distance_to_station1',\n",
       "       'distance_to_station2', 'distance_to_station3', 'station_type1',\n",
       "       'station_type2', 'station_type3', 'nearestSchools'],\n",
       "      dtype='object')"
      ]
     },
     "execution_count": 6,
     "metadata": {},
     "output_type": "execute_result"
    }
   ],
   "source": [
    "# Display remaining columns \n",
    "\n",
    "df.columns"
   ]
  },
  {
   "cell_type": "code",
   "execution_count": 7,
   "metadata": {},
   "outputs": [
    {
     "data": {
      "text/plain": [
       "['https://media.rightmove.co.uk/16k/15948/154825190/15948_1304110_IMG_01_0000.jpeg',\n",
       " 'https://media.rightmove.co.uk/16k/15948/154825190/15948_1304110_IMG_00_0000.jpeg',\n",
       " 'https://media.rightmove.co.uk/16k/15948/154825190/15948_1304110_IMG_02_0000.jpeg',\n",
       " 'https://media.rightmove.co.uk/16k/15948/154825190/15948_1304110_IMG_03_0000.jpeg',\n",
       " 'https://media.rightmove.co.uk/16k/15948/154825190/15948_1304110_IMG_04_0000.jpeg',\n",
       " 'https://media.rightmove.co.uk/16k/15948/154825190/15948_1304110_IMG_05_0000.jpeg',\n",
       " 'https://media.rightmove.co.uk/16k/15948/154825190/15948_1304110_IMG_06_0000.jpeg',\n",
       " 'https://media.rightmove.co.uk/16k/15948/154825190/15948_1304110_IMG_07_0000.jpeg',\n",
       " 'https://media.rightmove.co.uk/16k/15948/154825190/15948_1304110_IMG_08_0000.jpeg',\n",
       " 'https://media.rightmove.co.uk/16k/15948/154825190/15948_1304110_IMG_09_0000.jpeg',\n",
       " 'https://media.rightmove.co.uk/16k/15948/154825190/15948_1304110_IMG_10_0000.jpeg',\n",
       " 'https://media.rightmove.co.uk/16k/15948/154825190/15948_1304110_IMG_11_0000.jpeg',\n",
       " 'https://media.rightmove.co.uk/16k/15948/154825190/15948_1304110_IMG_12_0000.jpeg']"
      ]
     },
     "execution_count": 7,
     "metadata": {},
     "output_type": "execute_result"
    }
   ],
   "source": [
    "# there are no plans for CNNs at the moment\n",
    "\n",
    "df[\"images\"].iloc[0]"
   ]
  },
  {
   "cell_type": "code",
   "execution_count": 8,
   "metadata": {},
   "outputs": [],
   "source": [
    "# Remove:  \n",
    "# agents info, \n",
    "# ukCountry -> all in england, \n",
    "# type -> always rent, \n",
    "# brochures -> agents adds\", \n",
    "# Image -> require CNN,\n",
    "# deliveryPointId -> specific to rightmove\",\n",
    "# nearestSchools -> will be used later\n",
    "# countryCode -> all GB, \n",
    "# url - not needed for predictions, \n",
    "\n",
    "df = df.drop(['agent', 'agentPhone', 'agentLogo', 'agentDisplayAddress',\"brochures\",\n",
    "              'agentProfileUrl', 'agentListingsUrl', 'agentDescriptionHtml',\n",
    "              \"images\",\"deliveryPointId\",\"type\",\"ukCountry\",\"countryCode\",\"url\",\"nearestSchools\"],axis=1)"
   ]
  },
  {
   "cell_type": "code",
   "execution_count": 9,
   "metadata": {},
   "outputs": [
    {
     "data": {
      "text/html": [
       "<div>\n",
       "<style scoped>\n",
       "    .dataframe tbody tr th:only-of-type {\n",
       "        vertical-align: middle;\n",
       "    }\n",
       "\n",
       "    .dataframe tbody tr th {\n",
       "        vertical-align: top;\n",
       "    }\n",
       "\n",
       "    .dataframe thead th {\n",
       "        text-align: right;\n",
       "    }\n",
       "</style>\n",
       "<table border=\"1\" class=\"dataframe\">\n",
       "  <thead>\n",
       "    <tr style=\"text-align: right;\">\n",
       "      <th></th>\n",
       "      <th>description</th>\n",
       "      <th>descriptionHtml</th>\n",
       "    </tr>\n",
       "    <tr>\n",
       "      <th>id</th>\n",
       "      <th></th>\n",
       "      <th></th>\n",
       "    </tr>\n",
       "  </thead>\n",
       "  <tbody>\n",
       "    <tr>\n",
       "      <th>154825190</th>\n",
       "      <td>SHORT LET. Outstanding 3 bedroom house in Pars...</td>\n",
       "      <td>SHORT LET. Outstanding 3 bedroom house in Pars...</td>\n",
       "    </tr>\n",
       "    <tr>\n",
       "      <th>155893427</th>\n",
       "      <td>SHORT LET. Stunning 4 bedroom house close to c...</td>\n",
       "      <td>SHORT LET. Stunning 4 bedroom house close to c...</td>\n",
       "    </tr>\n",
       "    <tr>\n",
       "      <th>154825184</th>\n",
       "      <td>SHORT LET. Located on a pretty lane in central...</td>\n",
       "      <td>SHORT LET. Located on a pretty lane in central...</td>\n",
       "    </tr>\n",
       "    <tr>\n",
       "      <th>154274906</th>\n",
       "      <td>* SHORT LET *This beautifully refurbished 6-be...</td>\n",
       "      <td>* SHORT LET *&lt;br /&gt;&lt;br /&gt;This beautifully refu...</td>\n",
       "    </tr>\n",
       "    <tr>\n",
       "      <th>152063288</th>\n",
       "      <td>ONE OF THE LARGEST PENTHOUSES HERE AT CHELSEA ...</td>\n",
       "      <td>ONE OF THE LARGEST PENTHOUSES HERE AT CHELSEA ...</td>\n",
       "    </tr>\n",
       "    <tr>\n",
       "      <th>...</th>\n",
       "      <td>...</td>\n",
       "      <td>...</td>\n",
       "    </tr>\n",
       "    <tr>\n",
       "      <th>156015842</th>\n",
       "      <td>Property Reference: 2299821.KEY FEATURESSuperb...</td>\n",
       "      <td>Property Reference: 2299821.&lt;br /&gt;&lt;br /&gt;&lt;b&gt;KEY...</td>\n",
       "    </tr>\n",
       "    <tr>\n",
       "      <th>152958695</th>\n",
       "      <td>SHORT LET. Moments from Wembley Park, this con...</td>\n",
       "      <td>SHORT LET. Moments from Wembley Park, this con...</td>\n",
       "    </tr>\n",
       "    <tr>\n",
       "      <th>152955419</th>\n",
       "      <td>SHORT LET. This fantastic 3rd floor 2 bed flat...</td>\n",
       "      <td>SHORT LET. This fantastic 3rd floor 2 bed flat...</td>\n",
       "    </tr>\n",
       "    <tr>\n",
       "      <th>147232748</th>\n",
       "      <td>UNCLE Wembley - Stunningly designed Wembley fl...</td>\n",
       "      <td>UNCLE Wembley - Stunningly designed Wembley fl...</td>\n",
       "    </tr>\n",
       "    <tr>\n",
       "      <th>155503607</th>\n",
       "      <td>We are pleased to present to the market a spac...</td>\n",
       "      <td>We are pleased to present to the market a spac...</td>\n",
       "    </tr>\n",
       "  </tbody>\n",
       "</table>\n",
       "<p>31434 rows × 2 columns</p>\n",
       "</div>"
      ],
      "text/plain": [
       "                                                 description  \\\n",
       "id                                                             \n",
       "154825190  SHORT LET. Outstanding 3 bedroom house in Pars...   \n",
       "155893427  SHORT LET. Stunning 4 bedroom house close to c...   \n",
       "154825184  SHORT LET. Located on a pretty lane in central...   \n",
       "154274906  * SHORT LET *This beautifully refurbished 6-be...   \n",
       "152063288  ONE OF THE LARGEST PENTHOUSES HERE AT CHELSEA ...   \n",
       "...                                                      ...   \n",
       "156015842  Property Reference: 2299821.KEY FEATURESSuperb...   \n",
       "152958695  SHORT LET. Moments from Wembley Park, this con...   \n",
       "152955419  SHORT LET. This fantastic 3rd floor 2 bed flat...   \n",
       "147232748  UNCLE Wembley - Stunningly designed Wembley fl...   \n",
       "155503607  We are pleased to present to the market a spac...   \n",
       "\n",
       "                                             descriptionHtml  \n",
       "id                                                            \n",
       "154825190  SHORT LET. Outstanding 3 bedroom house in Pars...  \n",
       "155893427  SHORT LET. Stunning 4 bedroom house close to c...  \n",
       "154825184  SHORT LET. Located on a pretty lane in central...  \n",
       "154274906  * SHORT LET *<br /><br />This beautifully refu...  \n",
       "152063288  ONE OF THE LARGEST PENTHOUSES HERE AT CHELSEA ...  \n",
       "...                                                      ...  \n",
       "156015842  Property Reference: 2299821.<br /><br /><b>KEY...  \n",
       "152958695  SHORT LET. Moments from Wembley Park, this con...  \n",
       "152955419  SHORT LET. This fantastic 3rd floor 2 bed flat...  \n",
       "147232748  UNCLE Wembley - Stunningly designed Wembley fl...  \n",
       "155503607  We are pleased to present to the market a spac...  \n",
       "\n",
       "[31434 rows x 2 columns]"
      ]
     },
     "execution_count": 9,
     "metadata": {},
     "output_type": "execute_result"
    }
   ],
   "source": [
    "# descriptionHtml can be dropped, since its meaning is stored in description\n",
    "df[['description', 'descriptionHtml']]"
   ]
  },
  {
   "cell_type": "code",
   "execution_count": 10,
   "metadata": {},
   "outputs": [],
   "source": [
    "df = df.drop(['descriptionHtml'],axis=1)"
   ]
  },
  {
   "cell_type": "markdown",
   "metadata": {},
   "source": [
    "Check weird columns "
   ]
  },
  {
   "cell_type": "code",
   "execution_count": 11,
   "metadata": {},
   "outputs": [
    {
     "data": {
      "text/plain": [
       "id\n",
       "154825190    https://media.rightmove.co.uk/16k/15948/154825...\n",
       "155893427    https://media.rightmove.co.uk/16k/15948/155893...\n",
       "154825184    https://media.rightmove.co.uk/16k/15948/154825...\n",
       "154274906    https://media.rightmove.co.uk/45k/44645/154274...\n",
       "152063288    https://media.rightmove.co.uk/132k/131152/1520...\n",
       "                                   ...                        \n",
       "156015842                                                 None\n",
       "152958695    https://media.rightmove.co.uk/167k/166331/1529...\n",
       "152955419    https://media.rightmove.co.uk/167k/166331/1529...\n",
       "147232748                                                 None\n",
       "155503607         https://www.epcgraph.co.uk/epc.png?86,86,,,M\n",
       "Name: epc, Length: 31434, dtype: object"
      ]
     },
     "execution_count": 11,
     "metadata": {},
     "output_type": "execute_result"
    }
   ],
   "source": [
    "df[\"epc\"] # energy ratings need CNN to get label A,B,..F rank form image: -> remove"
   ]
  },
  {
   "cell_type": "code",
   "execution_count": 12,
   "metadata": {},
   "outputs": [],
   "source": [
    "df = df.drop(['epc'],axis=1)"
   ]
  },
  {
   "cell_type": "code",
   "execution_count": 13,
   "metadata": {},
   "outputs": [
    {
     "name": "stdout",
     "output_type": "stream",
     "text": [
      "Published counts:\n",
      "published\n",
      "True     31430\n",
      "False        4\n",
      "Name: count, dtype: int64\n",
      "\n",
      "Archived counts:\n",
      "archived\n",
      "False    31430\n",
      "True         4\n",
      "Name: count, dtype: int64\n",
      "\n",
      "Sold counts:\n",
      "sold\n",
      "False    31434\n",
      "Name: count, dtype: int64\n",
      "\n",
      "Tags:\n",
      "tags\n",
      "[]                               29044\n",
      "[NEW_HOME]                        1262\n",
      "[BUILT_FOR_RENTERS]                846\n",
      "[BUILT_FOR_RENTERS, NEW_HOME]      281\n",
      "[LET_AGREED, NEW_HOME]               1\n",
      "Name: count, dtype: int64\n",
      "\n",
      "DisplayStatus:\n",
      "displayStatus\n",
      "    31434\n",
      "Name: count, dtype: int64\n"
     ]
    }
   ],
   "source": [
    "# published, archived, sold, tags and displayStatus are almost constants -> remove\n",
    "\n",
    "print(\"Published counts:\")\n",
    "print(df['published'].value_counts())\n",
    "\n",
    "print(\"\\nArchived counts:\")\n",
    "print(df['archived'].value_counts())\n",
    "\n",
    "print(\"\\nSold counts:\")\n",
    "print(df['sold'].value_counts())\n",
    "\n",
    "print(\"\\nTags:\")\n",
    "print(df['tags'].value_counts())\n",
    "\n",
    "print(\"\\nDisplayStatus:\")\n",
    "print(df['displayStatus'].value_counts())"
   ]
  },
  {
   "cell_type": "code",
   "execution_count": 14,
   "metadata": {},
   "outputs": [],
   "source": [
    "df = df.drop([\"published\",\t\"archived\",\t\"sold\", \"tags\", \"displayStatus\"],axis=1)"
   ]
  },
  {
   "cell_type": "markdown",
   "metadata": {},
   "source": [
    "# Resulting Dataset "
   ]
  },
  {
   "cell_type": "markdown",
   "metadata": {},
   "source": [
    "## 1. Transport data to 3 nearest stations "
   ]
  },
  {
   "cell_type": "code",
   "execution_count": 15,
   "metadata": {},
   "outputs": [
    {
     "data": {
      "text/html": [
       "<div>\n",
       "<style scoped>\n",
       "    .dataframe tbody tr th:only-of-type {\n",
       "        vertical-align: middle;\n",
       "    }\n",
       "\n",
       "    .dataframe tbody tr th {\n",
       "        vertical-align: top;\n",
       "    }\n",
       "\n",
       "    .dataframe thead th {\n",
       "        text-align: right;\n",
       "    }\n",
       "</style>\n",
       "<table border=\"1\" class=\"dataframe\">\n",
       "  <thead>\n",
       "    <tr style=\"text-align: right;\">\n",
       "      <th></th>\n",
       "      <th>station_name1</th>\n",
       "      <th>station_name2</th>\n",
       "      <th>station_name3</th>\n",
       "      <th>distance_to_station1</th>\n",
       "      <th>distance_to_station2</th>\n",
       "      <th>distance_to_station3</th>\n",
       "      <th>station_type1</th>\n",
       "      <th>station_type2</th>\n",
       "      <th>station_type3</th>\n",
       "    </tr>\n",
       "    <tr>\n",
       "      <th>id</th>\n",
       "      <th></th>\n",
       "      <th></th>\n",
       "      <th></th>\n",
       "      <th></th>\n",
       "      <th></th>\n",
       "      <th></th>\n",
       "      <th></th>\n",
       "      <th></th>\n",
       "      <th></th>\n",
       "    </tr>\n",
       "  </thead>\n",
       "  <tbody>\n",
       "    <tr>\n",
       "      <th>154825190</th>\n",
       "      <td>Parsons Green Station</td>\n",
       "      <td>Fulham Broadway Station</td>\n",
       "      <td>Imperial Wharf Station</td>\n",
       "      <td>0.086686</td>\n",
       "      <td>0.375075</td>\n",
       "      <td>0.713814</td>\n",
       "      <td>[LONDON_UNDERGROUND]</td>\n",
       "      <td>[LONDON_UNDERGROUND]</td>\n",
       "      <td>[NATIONAL_TRAIN]</td>\n",
       "    </tr>\n",
       "    <tr>\n",
       "      <th>155893427</th>\n",
       "      <td>Parsons Green Station</td>\n",
       "      <td>Imperial Wharf Station</td>\n",
       "      <td>Fulham Broadway Station</td>\n",
       "      <td>0.400948</td>\n",
       "      <td>0.496335</td>\n",
       "      <td>0.584006</td>\n",
       "      <td>[LONDON_UNDERGROUND]</td>\n",
       "      <td>[NATIONAL_TRAIN]</td>\n",
       "      <td>[LONDON_UNDERGROUND]</td>\n",
       "    </tr>\n",
       "    <tr>\n",
       "      <th>154825184</th>\n",
       "      <td>Parsons Green Station</td>\n",
       "      <td>Fulham Broadway Station</td>\n",
       "      <td>Imperial Wharf Station</td>\n",
       "      <td>0.086686</td>\n",
       "      <td>0.375075</td>\n",
       "      <td>0.713814</td>\n",
       "      <td>[LONDON_UNDERGROUND]</td>\n",
       "      <td>[LONDON_UNDERGROUND]</td>\n",
       "      <td>[NATIONAL_TRAIN]</td>\n",
       "    </tr>\n",
       "    <tr>\n",
       "      <th>154274906</th>\n",
       "      <td>Putney Bridge Station</td>\n",
       "      <td>Parsons Green Station</td>\n",
       "      <td>Putney Station</td>\n",
       "      <td>0.140975</td>\n",
       "      <td>0.488032</td>\n",
       "      <td>0.699539</td>\n",
       "      <td>[LONDON_UNDERGROUND]</td>\n",
       "      <td>[LONDON_UNDERGROUND]</td>\n",
       "      <td>[NATIONAL_TRAIN]</td>\n",
       "    </tr>\n",
       "  </tbody>\n",
       "</table>\n",
       "</div>"
      ],
      "text/plain": [
       "                   station_name1            station_name2  \\\n",
       "id                                                          \n",
       "154825190  Parsons Green Station  Fulham Broadway Station   \n",
       "155893427  Parsons Green Station   Imperial Wharf Station   \n",
       "154825184  Parsons Green Station  Fulham Broadway Station   \n",
       "154274906  Putney Bridge Station    Parsons Green Station   \n",
       "\n",
       "                     station_name3  distance_to_station1  \\\n",
       "id                                                         \n",
       "154825190   Imperial Wharf Station              0.086686   \n",
       "155893427  Fulham Broadway Station              0.400948   \n",
       "154825184   Imperial Wharf Station              0.086686   \n",
       "154274906           Putney Station              0.140975   \n",
       "\n",
       "           distance_to_station2  distance_to_station3         station_type1  \\\n",
       "id                                                                            \n",
       "154825190              0.375075              0.713814  [LONDON_UNDERGROUND]   \n",
       "155893427              0.496335              0.584006  [LONDON_UNDERGROUND]   \n",
       "154825184              0.375075              0.713814  [LONDON_UNDERGROUND]   \n",
       "154274906              0.488032              0.699539  [LONDON_UNDERGROUND]   \n",
       "\n",
       "                  station_type2         station_type3  \n",
       "id                                                     \n",
       "154825190  [LONDON_UNDERGROUND]      [NATIONAL_TRAIN]  \n",
       "155893427      [NATIONAL_TRAIN]  [LONDON_UNDERGROUND]  \n",
       "154825184  [LONDON_UNDERGROUND]      [NATIONAL_TRAIN]  \n",
       "154274906  [LONDON_UNDERGROUND]      [NATIONAL_TRAIN]  "
      ]
     },
     "execution_count": 15,
     "metadata": {},
     "output_type": "execute_result"
    }
   ],
   "source": [
    "transport_columns = ['station_name1', 'station_name2', 'station_name3', \n",
    "                     'distance_to_station1','distance_to_station2', 'distance_to_station3',\n",
    "                     'station_type1', 'station_type2', 'station_type3']\n",
    "\n",
    "df[transport_columns].head(4)"
   ]
  },
  {
   "cell_type": "code",
   "execution_count": 16,
   "metadata": {},
   "outputs": [
    {
     "data": {
      "text/plain": [
       "station_name1           2\n",
       "station_name2           2\n",
       "station_name3           3\n",
       "distance_to_station1    2\n",
       "distance_to_station2    2\n",
       "distance_to_station3    3\n",
       "station_type1           2\n",
       "station_type2           2\n",
       "station_type3           3\n",
       "dtype: int64"
      ]
     },
     "execution_count": 16,
     "metadata": {},
     "output_type": "execute_result"
    }
   ],
   "source": [
    "df[transport_columns].isna().sum()"
   ]
  },
  {
   "cell_type": "markdown",
   "metadata": {},
   "source": [
    "1. data outliers -> removes rows where stations data is not present"
   ]
  },
  {
   "cell_type": "code",
   "execution_count": 17,
   "metadata": {},
   "outputs": [],
   "source": [
    "df = df[~df[\"station_name1\"].isna()]\n",
    "df[[\"distance_to_station1\",\t\"distance_to_station2\",\t\"distance_to_station3\"]] = df[[\"distance_to_station1\",\t\"distance_to_station2\",\t\"distance_to_station3\"]].astype(\"float16\")"
   ]
  },
  {
   "cell_type": "markdown",
   "metadata": {},
   "source": [
    "## 2. Finantial details"
   ]
  },
  {
   "cell_type": "code",
   "execution_count": 18,
   "metadata": {},
   "outputs": [
    {
     "data": {
      "text/html": [
       "<div>\n",
       "<style scoped>\n",
       "    .dataframe tbody tr th:only-of-type {\n",
       "        vertical-align: middle;\n",
       "    }\n",
       "\n",
       "    .dataframe tbody tr th {\n",
       "        vertical-align: top;\n",
       "    }\n",
       "\n",
       "    .dataframe thead th {\n",
       "        text-align: right;\n",
       "    }\n",
       "</style>\n",
       "<table border=\"1\" class=\"dataframe\">\n",
       "  <thead>\n",
       "    <tr style=\"text-align: right;\">\n",
       "      <th></th>\n",
       "      <th>price</th>\n",
       "      <th>secondaryPrice</th>\n",
       "      <th>deposit</th>\n",
       "      <th>councilTaxExempt</th>\n",
       "      <th>councilTaxIncluded</th>\n",
       "      <th>councilTaxBand</th>\n",
       "    </tr>\n",
       "    <tr>\n",
       "      <th>id</th>\n",
       "      <th></th>\n",
       "      <th></th>\n",
       "      <th></th>\n",
       "      <th></th>\n",
       "      <th></th>\n",
       "      <th></th>\n",
       "    </tr>\n",
       "  </thead>\n",
       "  <tbody>\n",
       "    <tr>\n",
       "      <th>154825190</th>\n",
       "      <td>£18,633 pcm</td>\n",
       "      <td>£4,300 pw</td>\n",
       "      <td>4300.0</td>\n",
       "      <td>False</td>\n",
       "      <td>False</td>\n",
       "      <td>None</td>\n",
       "    </tr>\n",
       "    <tr>\n",
       "      <th>155893427</th>\n",
       "      <td>£13,000 pcm</td>\n",
       "      <td>£3,000 pw</td>\n",
       "      <td>3000.0</td>\n",
       "      <td>False</td>\n",
       "      <td>False</td>\n",
       "      <td>None</td>\n",
       "    </tr>\n",
       "    <tr>\n",
       "      <th>154825184</th>\n",
       "      <td>£14,300 pcm</td>\n",
       "      <td>£3,300 pw</td>\n",
       "      <td>3300.0</td>\n",
       "      <td>False</td>\n",
       "      <td>False</td>\n",
       "      <td>None</td>\n",
       "    </tr>\n",
       "    <tr>\n",
       "      <th>154274906</th>\n",
       "      <td>£15,000 pcm</td>\n",
       "      <td>£3,462 pw</td>\n",
       "      <td>10385.0</td>\n",
       "      <td>False</td>\n",
       "      <td>False</td>\n",
       "      <td>None</td>\n",
       "    </tr>\n",
       "  </tbody>\n",
       "</table>\n",
       "</div>"
      ],
      "text/plain": [
       "                 price secondaryPrice  deposit  councilTaxExempt  \\\n",
       "id                                                                 \n",
       "154825190  £18,633 pcm      £4,300 pw   4300.0             False   \n",
       "155893427  £13,000 pcm      £3,000 pw   3000.0             False   \n",
       "154825184  £14,300 pcm      £3,300 pw   3300.0             False   \n",
       "154274906  £15,000 pcm      £3,462 pw  10385.0             False   \n",
       "\n",
       "           councilTaxIncluded councilTaxBand  \n",
       "id                                            \n",
       "154825190               False           None  \n",
       "155893427               False           None  \n",
       "154825184               False           None  \n",
       "154274906               False           None  "
      ]
     },
     "execution_count": 18,
     "metadata": {},
     "output_type": "execute_result"
    }
   ],
   "source": [
    "finantial_columns = ['price', 'secondaryPrice', 'deposit', 'councilTaxExempt','councilTaxIncluded', 'councilTaxBand']\n",
    "\n",
    "df[finantial_columns].head(4)"
   ]
  },
  {
   "cell_type": "code",
   "execution_count": 19,
   "metadata": {},
   "outputs": [
    {
     "data": {
      "text/plain": [
       "price                     0\n",
       "secondaryPrice            0\n",
       "deposit                6492\n",
       "councilTaxExempt          0\n",
       "councilTaxIncluded        0\n",
       "councilTaxBand        16403\n",
       "dtype: int64"
      ]
     },
     "execution_count": 19,
     "metadata": {},
     "output_type": "execute_result"
    }
   ],
   "source": [
    "df[finantial_columns].isna().sum()"
   ]
  },
  {
   "cell_type": "markdown",
   "metadata": {},
   "source": [
    "1. Deposit will be biniresed yes/no to avoid price prediction data leak, therefore Nulll in deposit data is not a problem\n",
    "2. Despite councilTaxBand 50% of data missiing, it can be filled with predictions \n",
    "3. Transform prices"
   ]
  },
  {
   "cell_type": "code",
   "execution_count": 20,
   "metadata": {},
   "outputs": [],
   "source": [
    "df['deposit'].fillna(0, inplace=True)\n",
    "df['deposit'] = df['deposit'].apply(lambda x: True if x != 0 else False)\n",
    "df['deposit'] = df['deposit'].astype(bool)"
   ]
  },
  {
   "cell_type": "code",
   "execution_count": 21,
   "metadata": {},
   "outputs": [
    {
     "name": "stdout",
     "output_type": "stream",
     "text": [
      "fraction of houses with uknown council tax=0.5218567065411046\n"
     ]
    }
   ],
   "source": [
    "print(\"fraction of houses with uknown council tax={}\".format(df[\"councilTaxBand\"].isna().sum()/len(df)))"
   ]
  },
  {
   "cell_type": "code",
   "execution_count": 22,
   "metadata": {},
   "outputs": [],
   "source": [
    "def transform_price(x):\n",
    "    string = x.split(\" \")[0]\n",
    "    numbers = re.findall(r'\\d+', string)\n",
    "    return int(''.join(numbers))\n",
    "\n",
    "df[\"price\"] = df[\"price\"].apply(lambda x: transform_price(x))\n",
    "df[\"secondaryPrice\"] = df[\"secondaryPrice\"].apply(lambda x: transform_price(x))"
   ]
  },
  {
   "cell_type": "markdown",
   "metadata": {},
   "source": [
    "## 3. Address "
   ]
  },
  {
   "cell_type": "code",
   "execution_count": 23,
   "metadata": {},
   "outputs": [
    {
     "data": {
      "text/html": [
       "<div>\n",
       "<style scoped>\n",
       "    .dataframe tbody tr th:only-of-type {\n",
       "        vertical-align: middle;\n",
       "    }\n",
       "\n",
       "    .dataframe tbody tr th {\n",
       "        vertical-align: top;\n",
       "    }\n",
       "\n",
       "    .dataframe thead th {\n",
       "        text-align: right;\n",
       "    }\n",
       "</style>\n",
       "<table border=\"1\" class=\"dataframe\">\n",
       "  <thead>\n",
       "    <tr style=\"text-align: right;\">\n",
       "      <th></th>\n",
       "      <th>displayAddress</th>\n",
       "      <th>outcode</th>\n",
       "      <th>incode</th>\n",
       "      <th>latitude</th>\n",
       "      <th>longitude</th>\n",
       "    </tr>\n",
       "    <tr>\n",
       "      <th>id</th>\n",
       "      <th></th>\n",
       "      <th></th>\n",
       "      <th></th>\n",
       "      <th></th>\n",
       "      <th></th>\n",
       "    </tr>\n",
       "  </thead>\n",
       "  <tbody>\n",
       "    <tr>\n",
       "      <th>154825190</th>\n",
       "      <td>Novello Street, Parsons Green, London, SW6</td>\n",
       "      <td>SW6</td>\n",
       "      <td>4JB</td>\n",
       "      <td>51.475830</td>\n",
       "      <td>-0.199436</td>\n",
       "    </tr>\n",
       "    <tr>\n",
       "      <th>155893427</th>\n",
       "      <td>Studdridge Street, Fulham, London, SW6</td>\n",
       "      <td>SW6</td>\n",
       "      <td>3SL</td>\n",
       "      <td>51.472097</td>\n",
       "      <td>-0.193479</td>\n",
       "    </tr>\n",
       "    <tr>\n",
       "      <th>154825184</th>\n",
       "      <td>Novello Street, Parsons Green, London, SW6</td>\n",
       "      <td>SW6</td>\n",
       "      <td>4JB</td>\n",
       "      <td>51.475830</td>\n",
       "      <td>-0.199436</td>\n",
       "    </tr>\n",
       "  </tbody>\n",
       "</table>\n",
       "</div>"
      ],
      "text/plain": [
       "                                       displayAddress outcode incode  \\\n",
       "id                                                                     \n",
       "154825190  Novello Street, Parsons Green, London, SW6     SW6    4JB   \n",
       "155893427      Studdridge Street, Fulham, London, SW6     SW6    3SL   \n",
       "154825184  Novello Street, Parsons Green, London, SW6     SW6    4JB   \n",
       "\n",
       "            latitude  longitude  \n",
       "id                               \n",
       "154825190  51.475830  -0.199436  \n",
       "155893427  51.472097  -0.193479  \n",
       "154825184  51.475830  -0.199436  "
      ]
     },
     "execution_count": 23,
     "metadata": {},
     "output_type": "execute_result"
    }
   ],
   "source": [
    "location_columns = [ 'displayAddress','outcode', 'incode', 'latitude', 'longitude']\n",
    "\n",
    "df[location_columns].head(3)"
   ]
  },
  {
   "cell_type": "code",
   "execution_count": 24,
   "metadata": {},
   "outputs": [
    {
     "data": {
      "text/plain": [
       "displayAddress    0\n",
       "outcode           0\n",
       "incode            0\n",
       "latitude          0\n",
       "longitude         0\n",
       "dtype: int64"
      ]
     },
     "execution_count": 24,
     "metadata": {},
     "output_type": "execute_result"
    }
   ],
   "source": [
    "df[location_columns].isna().sum()"
   ]
  },
  {
   "cell_type": "code",
   "execution_count": 25,
   "metadata": {},
   "outputs": [],
   "source": [
    "df[[\"latitude\",\"longitude\"]] = df[[\"latitude\",\"longitude\"]].astype(float)"
   ]
  },
  {
   "cell_type": "code",
   "execution_count": 26,
   "metadata": {},
   "outputs": [
    {
     "data": {
      "text/plain": [
       "id\n",
       "154825190    [Novello Street,  Parsons Green,  London,  SW6]\n",
       "155893427        [Studdridge Street,  Fulham,  London,  SW6]\n",
       "154825184    [Novello Street,  Parsons Green,  London,  SW6]\n",
       "154274906             [Ranelagh Avenue,  \\nHurlingham,  SW6]\n",
       "152063288     [Compass House,  Chelsea Creek,  Fulham,  SW6]\n",
       "                                  ...                       \n",
       "156015842                   [Elizabeth House,  London,  HA9]\n",
       "152958695    [Matthews Close,  Wembley Park,  Wembley,  HA9]\n",
       "152955419    [Matthews Close,  Wembley Park,  Wembley,  HA9]\n",
       "147232748            [Park Lane,  Wembley,  Middlesex,  HA9]\n",
       "155503607                            [Bowery,  London,  HA9]\n",
       "Name: displayAddress, Length: 31432, dtype: object"
      ]
     },
     "execution_count": 26,
     "metadata": {},
     "output_type": "execute_result"
    }
   ],
   "source": [
    "# inconsitent format leave as it is \n",
    "df[\"displayAddress\"].apply(lambda x: x.split(\",\"))"
   ]
  },
  {
   "cell_type": "markdown",
   "metadata": {},
   "source": [
    "## 4. Property Features"
   ]
  },
  {
   "cell_type": "code",
   "execution_count": 27,
   "metadata": {},
   "outputs": [
    {
     "data": {
      "text/html": [
       "<div>\n",
       "<style scoped>\n",
       "    .dataframe tbody tr th:only-of-type {\n",
       "        vertical-align: middle;\n",
       "    }\n",
       "\n",
       "    .dataframe tbody tr th {\n",
       "        vertical-align: top;\n",
       "    }\n",
       "\n",
       "    .dataframe thead th {\n",
       "        text-align: right;\n",
       "    }\n",
       "</style>\n",
       "<table border=\"1\" class=\"dataframe\">\n",
       "  <thead>\n",
       "    <tr style=\"text-align: right;\">\n",
       "      <th></th>\n",
       "      <th>bedrooms</th>\n",
       "      <th>bathrooms</th>\n",
       "      <th>propertyType</th>\n",
       "      <th>sizeSqFeetMin</th>\n",
       "      <th>sizeSqFeetMax</th>\n",
       "      <th>floorplans</th>\n",
       "    </tr>\n",
       "    <tr>\n",
       "      <th>id</th>\n",
       "      <th></th>\n",
       "      <th></th>\n",
       "      <th></th>\n",
       "      <th></th>\n",
       "      <th></th>\n",
       "      <th></th>\n",
       "    </tr>\n",
       "  </thead>\n",
       "  <tbody>\n",
       "    <tr>\n",
       "      <th>154825190</th>\n",
       "      <td>3.0</td>\n",
       "      <td>2.0</td>\n",
       "      <td>House</td>\n",
       "      <td>1439.0</td>\n",
       "      <td>1439.0</td>\n",
       "      <td>[{'url': 'https://media.rightmove.co.uk/16k/15...</td>\n",
       "    </tr>\n",
       "    <tr>\n",
       "      <th>155893427</th>\n",
       "      <td>4.0</td>\n",
       "      <td>4.0</td>\n",
       "      <td>House</td>\n",
       "      <td>2479.0</td>\n",
       "      <td>2479.0</td>\n",
       "      <td>[{'url': 'https://media.rightmove.co.uk/16k/15...</td>\n",
       "    </tr>\n",
       "    <tr>\n",
       "      <th>154825184</th>\n",
       "      <td>4.0</td>\n",
       "      <td>2.0</td>\n",
       "      <td>House</td>\n",
       "      <td>1185.0</td>\n",
       "      <td>1185.0</td>\n",
       "      <td>[{'url': 'https://media.rightmove.co.uk/16k/15...</td>\n",
       "    </tr>\n",
       "    <tr>\n",
       "      <th>154274906</th>\n",
       "      <td>6.0</td>\n",
       "      <td>3.0</td>\n",
       "      <td>Terraced</td>\n",
       "      <td>2879.0</td>\n",
       "      <td>2879.0</td>\n",
       "      <td>[]</td>\n",
       "    </tr>\n",
       "    <tr>\n",
       "      <th>152063288</th>\n",
       "      <td>5.0</td>\n",
       "      <td>6.0</td>\n",
       "      <td>Penthouse</td>\n",
       "      <td>4015.0</td>\n",
       "      <td>4015.0</td>\n",
       "      <td>[{'url': 'https://media.rightmove.co.uk/132k/1...</td>\n",
       "    </tr>\n",
       "  </tbody>\n",
       "</table>\n",
       "</div>"
      ],
      "text/plain": [
       "           bedrooms  bathrooms propertyType  sizeSqFeetMin  sizeSqFeetMax  \\\n",
       "id                                                                          \n",
       "154825190       3.0        2.0        House         1439.0         1439.0   \n",
       "155893427       4.0        4.0        House         2479.0         2479.0   \n",
       "154825184       4.0        2.0        House         1185.0         1185.0   \n",
       "154274906       6.0        3.0     Terraced         2879.0         2879.0   \n",
       "152063288       5.0        6.0    Penthouse         4015.0         4015.0   \n",
       "\n",
       "                                                  floorplans  \n",
       "id                                                            \n",
       "154825190  [{'url': 'https://media.rightmove.co.uk/16k/15...  \n",
       "155893427  [{'url': 'https://media.rightmove.co.uk/16k/15...  \n",
       "154825184  [{'url': 'https://media.rightmove.co.uk/16k/15...  \n",
       "154274906                                                 []  \n",
       "152063288  [{'url': 'https://media.rightmove.co.uk/132k/1...  "
      ]
     },
     "execution_count": 27,
     "metadata": {},
     "output_type": "execute_result"
    }
   ],
   "source": [
    "property_features = ['bedrooms',\"bathrooms\",\"propertyType\",'sizeSqFeetMin', 'sizeSqFeetMax',\"floorplans\"]\n",
    "\n",
    "df[property_features].head(5)"
   ]
  },
  {
   "cell_type": "markdown",
   "metadata": {},
   "source": [
    "1. floorplans to be dropped, CNNs next time\n",
    "2. sizeSqFeetMin, sizeSqFeetMax can be estimated\n",
    "3. remove outliers"
   ]
  },
  {
   "cell_type": "code",
   "execution_count": 28,
   "metadata": {},
   "outputs": [
    {
     "data": {
      "text/plain": [
       "bedrooms          2665\n",
       "bathrooms         1802\n",
       "propertyType         0\n",
       "sizeSqFeetMin    19890\n",
       "sizeSqFeetMax    19890\n",
       "floorplans           0\n",
       "dtype: int64"
      ]
     },
     "execution_count": 28,
     "metadata": {},
     "output_type": "execute_result"
    }
   ],
   "source": [
    "df[property_features].isna().sum()"
   ]
  },
  {
   "cell_type": "code",
   "execution_count": 29,
   "metadata": {},
   "outputs": [
    {
     "data": {
      "text/plain": [
       "0.016034614405701197"
      ]
     },
     "execution_count": 29,
     "metadata": {},
     "output_type": "execute_result"
    }
   ],
   "source": [
    "# negligible ouliers\n",
    "\n",
    "len(df[df[\"bedrooms\"].isna() & df[\"bathrooms\"].isna()])/len(df)"
   ]
  },
  {
   "cell_type": "code",
   "execution_count": 30,
   "metadata": {},
   "outputs": [],
   "source": [
    "df = df[~(df[\"bedrooms\"].isna() & df[\"bathrooms\"].isna())] # remove negligible ouliers\n",
    "df = df.drop(\"floorplans\",axis=1)\n",
    "\n",
    "df[\"sizeSqFeetMax\"] = df[\"sizeSqFeetMax\"].fillna(0)\n",
    "df[\"sizeSqFeetMin\"] = df[\"sizeSqFeetMin\"].fillna(0)\n",
    "df[[\"sizeSqFeetMax\",\"sizeSqFeetMin\"]] = df[[\"sizeSqFeetMax\",\"sizeSqFeetMin\"]].astype(float)"
   ]
  },
  {
   "cell_type": "code",
   "execution_count": 31,
   "metadata": {},
   "outputs": [
    {
     "data": {
      "text/plain": [
       "0.041968442834971545"
      ]
     },
     "execution_count": 31,
     "metadata": {},
     "output_type": "execute_result"
    }
   ],
   "source": [
    "len(df[df[\"bathrooms\"].isna()])/len(df)"
   ]
  },
  {
   "cell_type": "code",
   "execution_count": 32,
   "metadata": {},
   "outputs": [],
   "source": [
    "df[\"bathrooms\"] = df[\"bathrooms\"].fillna(1) # at least one toilet is present "
   ]
  },
  {
   "cell_type": "code",
   "execution_count": 33,
   "metadata": {},
   "outputs": [
    {
     "data": {
      "text/plain": [
       "propertyType\n",
       "Studio                          1313\n",
       "Apartment                        377\n",
       "Flat                             333\n",
       "House Share                       72\n",
       "Ground Flat                       13\n",
       "House                             11\n",
       "Flat Share                         7\n",
       "Not Specified                      6\n",
       "Terraced                           5\n",
       "Parking                            4\n",
       "Serviced Apartments                4\n",
       "Block of Apartments                3\n",
       "Garages                            3\n",
       "Duplex                             2\n",
       "Retirement Property                2\n",
       "Detached                           2\n",
       "Semi-Detached                      1\n",
       "House of Multiple Occupation       1\n",
       "House Boat                         1\n",
       "Hotel Room                         1\n",
       "Name: count, dtype: int64"
      ]
     },
     "execution_count": 33,
     "metadata": {},
     "output_type": "execute_result"
    }
   ],
   "source": [
    "df[df[\"bedrooms\"].isna()][\"propertyType\"].value_counts()"
   ]
  },
  {
   "cell_type": "code",
   "execution_count": 34,
   "metadata": {},
   "outputs": [],
   "source": [
    "# remove outliers bedrooms are none, except for studio\n",
    "\n",
    "df = df[~((df[\"propertyType\"] != \"Studio\") & (df[\"bedrooms\"].isna()))]\n"
   ]
  },
  {
   "cell_type": "markdown",
   "metadata": {},
   "source": [
    "## 4. Time related variables"
   ]
  },
  {
   "cell_type": "code",
   "execution_count": 35,
   "metadata": {},
   "outputs": [
    {
     "data": {
      "text/html": [
       "<div>\n",
       "<style scoped>\n",
       "    .dataframe tbody tr th:only-of-type {\n",
       "        vertical-align: middle;\n",
       "    }\n",
       "\n",
       "    .dataframe tbody tr th {\n",
       "        vertical-align: top;\n",
       "    }\n",
       "\n",
       "    .dataframe thead th {\n",
       "        text-align: right;\n",
       "    }\n",
       "</style>\n",
       "<table border=\"1\" class=\"dataframe\">\n",
       "  <thead>\n",
       "    <tr style=\"text-align: right;\">\n",
       "      <th></th>\n",
       "      <th>addedOn</th>\n",
       "      <th>firstVisibleDate</th>\n",
       "      <th>letAvailableDate</th>\n",
       "      <th>listingUpdateReason</th>\n",
       "      <th>listingUpdateDate</th>\n",
       "    </tr>\n",
       "    <tr>\n",
       "      <th>id</th>\n",
       "      <th></th>\n",
       "      <th></th>\n",
       "      <th></th>\n",
       "      <th></th>\n",
       "      <th></th>\n",
       "    </tr>\n",
       "  </thead>\n",
       "  <tbody>\n",
       "    <tr>\n",
       "      <th>154825190</th>\n",
       "      <td>11/11/2024</td>\n",
       "      <td>2024-11-11T11:43:21Z</td>\n",
       "      <td>Ask agent</td>\n",
       "      <td>new</td>\n",
       "      <td>2024-11-11T11:49:03Z</td>\n",
       "    </tr>\n",
       "    <tr>\n",
       "      <th>155893427</th>\n",
       "      <td>Reduced on 06/11/2024</td>\n",
       "      <td>2024-12-12T12:42:10Z</td>\n",
       "      <td>Ask agent</td>\n",
       "      <td>price_reduced</td>\n",
       "      <td>2024-11-06T10:44:16Z</td>\n",
       "    </tr>\n",
       "    <tr>\n",
       "      <th>154825184</th>\n",
       "      <td>Reduced on 17/12/2024</td>\n",
       "      <td>2024-11-11T11:43:18Z</td>\n",
       "      <td>Ask agent</td>\n",
       "      <td>price_reduced</td>\n",
       "      <td>2024-12-17T11:40:51Z</td>\n",
       "    </tr>\n",
       "    <tr>\n",
       "      <th>154274906</th>\n",
       "      <td>Reduced on 12/11/2024</td>\n",
       "      <td>2024-10-28T11:12:35Z</td>\n",
       "      <td>Now</td>\n",
       "      <td>price_reduced</td>\n",
       "      <td>2024-11-12T11:58:11Z</td>\n",
       "    </tr>\n",
       "    <tr>\n",
       "      <th>152063288</th>\n",
       "      <td>05/09/2024</td>\n",
       "      <td>2024-09-05T10:10:35Z</td>\n",
       "      <td>Now</td>\n",
       "      <td>new</td>\n",
       "      <td>2024-09-05T10:16:03Z</td>\n",
       "    </tr>\n",
       "  </tbody>\n",
       "</table>\n",
       "</div>"
      ],
      "text/plain": [
       "                         addedOn      firstVisibleDate letAvailableDate  \\\n",
       "id                                                                        \n",
       "154825190             11/11/2024  2024-11-11T11:43:21Z        Ask agent   \n",
       "155893427  Reduced on 06/11/2024  2024-12-12T12:42:10Z        Ask agent   \n",
       "154825184  Reduced on 17/12/2024  2024-11-11T11:43:18Z        Ask agent   \n",
       "154274906  Reduced on 12/11/2024  2024-10-28T11:12:35Z              Now   \n",
       "152063288             05/09/2024  2024-09-05T10:10:35Z              Now   \n",
       "\n",
       "          listingUpdateReason     listingUpdateDate  \n",
       "id                                                   \n",
       "154825190                 new  2024-11-11T11:49:03Z  \n",
       "155893427       price_reduced  2024-11-06T10:44:16Z  \n",
       "154825184       price_reduced  2024-12-17T11:40:51Z  \n",
       "154274906       price_reduced  2024-11-12T11:58:11Z  \n",
       "152063288                 new  2024-09-05T10:16:03Z  "
      ]
     },
     "execution_count": 35,
     "metadata": {},
     "output_type": "execute_result"
    }
   ],
   "source": [
    "time_related = ['addedOn','firstVisibleDate', 'letAvailableDate', 'listingUpdateReason', 'listingUpdateDate']\n",
    "\n",
    "df[time_related].head(5)"
   ]
  },
  {
   "cell_type": "code",
   "execution_count": 36,
   "metadata": {},
   "outputs": [
    {
     "data": {
      "text/plain": [
       "addedOn                11\n",
       "firstVisibleDate        0\n",
       "letAvailableDate        0\n",
       "listingUpdateReason    10\n",
       "listingUpdateDate      10\n",
       "dtype: int64"
      ]
     },
     "execution_count": 36,
     "metadata": {},
     "output_type": "execute_result"
    }
   ],
   "source": [
    "df[time_related].isna().sum()"
   ]
  },
  {
   "cell_type": "code",
   "execution_count": 37,
   "metadata": {},
   "outputs": [],
   "source": [
    "df = df[~df[\"addedOn\"].isna()] "
   ]
  },
  {
   "cell_type": "code",
   "execution_count": 38,
   "metadata": {},
   "outputs": [
    {
     "data": {
      "text/html": [
       "<div>\n",
       "<style scoped>\n",
       "    .dataframe tbody tr th:only-of-type {\n",
       "        vertical-align: middle;\n",
       "    }\n",
       "\n",
       "    .dataframe tbody tr th {\n",
       "        vertical-align: top;\n",
       "    }\n",
       "\n",
       "    .dataframe thead th {\n",
       "        text-align: right;\n",
       "    }\n",
       "</style>\n",
       "<table border=\"1\" class=\"dataframe\">\n",
       "  <thead>\n",
       "    <tr style=\"text-align: right;\">\n",
       "      <th></th>\n",
       "      <th>addedOn</th>\n",
       "      <th>firstVisibleDate</th>\n",
       "      <th>letAvailableDate</th>\n",
       "      <th>listingUpdateReason</th>\n",
       "      <th>listingUpdateDate</th>\n",
       "    </tr>\n",
       "    <tr>\n",
       "      <th>id</th>\n",
       "      <th></th>\n",
       "      <th></th>\n",
       "      <th></th>\n",
       "      <th></th>\n",
       "      <th></th>\n",
       "    </tr>\n",
       "  </thead>\n",
       "  <tbody>\n",
       "    <tr>\n",
       "      <th>156543143</th>\n",
       "      <td>Added today</td>\n",
       "      <td>2025-01-06T16:35:34Z</td>\n",
       "      <td>19/02/2025</td>\n",
       "      <td>None</td>\n",
       "      <td>None</td>\n",
       "    </tr>\n",
       "  </tbody>\n",
       "</table>\n",
       "</div>"
      ],
      "text/plain": [
       "               addedOn      firstVisibleDate letAvailableDate  \\\n",
       "id                                                              \n",
       "156543143  Added today  2025-01-06T16:35:34Z       19/02/2025   \n",
       "\n",
       "          listingUpdateReason listingUpdateDate  \n",
       "id                                               \n",
       "156543143                None              None  "
      ]
     },
     "execution_count": 38,
     "metadata": {},
     "output_type": "execute_result"
    }
   ],
   "source": [
    "df[df[\"listingUpdateDate\"].isna()][time_related] # datapoint could be added recently, but for data manipulation convinience will be removed"
   ]
  },
  {
   "cell_type": "code",
   "execution_count": 39,
   "metadata": {},
   "outputs": [],
   "source": [
    "df = df[~df[\"listingUpdateDate\"].isna()]"
   ]
  },
  {
   "cell_type": "code",
   "execution_count": 40,
   "metadata": {},
   "outputs": [
    {
     "data": {
      "text/plain": [
       "listingUpdateReason\n",
       "new              20748\n",
       "price_reduced     9320\n",
       "Name: count, dtype: int64"
      ]
     },
     "execution_count": 40,
     "metadata": {},
     "output_type": "execute_result"
    }
   ],
   "source": [
    "df[\"listingUpdateReason\"].value_counts()"
   ]
  },
  {
   "cell_type": "markdown",
   "metadata": {},
   "source": [
    "###  SIGNIFICANT DISCOVERY: THE SAME LISTINGS CHANGE PRICE (VERY FREQUENTLY IN DATA) !"
   ]
  },
  {
   "cell_type": "code",
   "execution_count": 41,
   "metadata": {},
   "outputs": [],
   "source": [
    "df[\"listingUpdateDate\"] =  pd.to_datetime(df['listingUpdateDate']).dt.date\n",
    "df[\"firstVisibleDate\"] =  pd.to_datetime(df[\"firstVisibleDate\"]).dt.date"
   ]
  },
  {
   "cell_type": "code",
   "execution_count": 42,
   "metadata": {},
   "outputs": [],
   "source": [
    "df2 = df.copy()\n",
    "df2[\"counter\"] = df2[\"addedOn\"].apply(lambda x: len(x.split()))"
   ]
  },
  {
   "cell_type": "code",
   "execution_count": 43,
   "metadata": {},
   "outputs": [
    {
     "data": {
      "text/html": [
       "<div>\n",
       "<style scoped>\n",
       "    .dataframe tbody tr th:only-of-type {\n",
       "        vertical-align: middle;\n",
       "    }\n",
       "\n",
       "    .dataframe tbody tr th {\n",
       "        vertical-align: top;\n",
       "    }\n",
       "\n",
       "    .dataframe thead th {\n",
       "        text-align: right;\n",
       "    }\n",
       "</style>\n",
       "<table border=\"1\" class=\"dataframe\">\n",
       "  <thead>\n",
       "    <tr style=\"text-align: right;\">\n",
       "      <th></th>\n",
       "      <th>addedOn</th>\n",
       "      <th>firstVisibleDate</th>\n",
       "      <th>letAvailableDate</th>\n",
       "      <th>listingUpdateReason</th>\n",
       "      <th>listingUpdateDate</th>\n",
       "    </tr>\n",
       "    <tr>\n",
       "      <th>id</th>\n",
       "      <th></th>\n",
       "      <th></th>\n",
       "      <th></th>\n",
       "      <th></th>\n",
       "      <th></th>\n",
       "    </tr>\n",
       "  </thead>\n",
       "  <tbody>\n",
       "    <tr>\n",
       "      <th>156527702</th>\n",
       "      <td>Reduced yesterday</td>\n",
       "      <td>2025-01-06</td>\n",
       "      <td>Now</td>\n",
       "      <td>price_reduced</td>\n",
       "      <td>2025-01-06</td>\n",
       "    </tr>\n",
       "    <tr>\n",
       "      <th>155936288</th>\n",
       "      <td>Reduced yesterday</td>\n",
       "      <td>2024-12-13</td>\n",
       "      <td>Now</td>\n",
       "      <td>price_reduced</td>\n",
       "      <td>2025-01-06</td>\n",
       "    </tr>\n",
       "    <tr>\n",
       "      <th>155592647</th>\n",
       "      <td>Reduced yesterday</td>\n",
       "      <td>2024-12-02</td>\n",
       "      <td>31/01/2025</td>\n",
       "      <td>price_reduced</td>\n",
       "      <td>2025-01-06</td>\n",
       "    </tr>\n",
       "    <tr>\n",
       "      <th>155469410</th>\n",
       "      <td>Reduced yesterday</td>\n",
       "      <td>2024-11-28</td>\n",
       "      <td>Now</td>\n",
       "      <td>price_reduced</td>\n",
       "      <td>2025-01-06</td>\n",
       "    </tr>\n",
       "    <tr>\n",
       "      <th>155834402</th>\n",
       "      <td>Reduced yesterday</td>\n",
       "      <td>2024-12-10</td>\n",
       "      <td>17/02/2025</td>\n",
       "      <td>price_reduced</td>\n",
       "      <td>2025-01-06</td>\n",
       "    </tr>\n",
       "    <tr>\n",
       "      <th>...</th>\n",
       "      <td>...</td>\n",
       "      <td>...</td>\n",
       "      <td>...</td>\n",
       "      <td>...</td>\n",
       "      <td>...</td>\n",
       "    </tr>\n",
       "    <tr>\n",
       "      <th>156532793</th>\n",
       "      <td>Reduced yesterday</td>\n",
       "      <td>2025-01-06</td>\n",
       "      <td>01/02/2025</td>\n",
       "      <td>price_reduced</td>\n",
       "      <td>2025-01-07</td>\n",
       "    </tr>\n",
       "    <tr>\n",
       "      <th>142689713</th>\n",
       "      <td>Reduced today</td>\n",
       "      <td>2023-12-05</td>\n",
       "      <td>Now</td>\n",
       "      <td>price_reduced</td>\n",
       "      <td>2025-01-08</td>\n",
       "    </tr>\n",
       "    <tr>\n",
       "      <th>156461729</th>\n",
       "      <td>Reduced today</td>\n",
       "      <td>2025-01-03</td>\n",
       "      <td>Now</td>\n",
       "      <td>price_reduced</td>\n",
       "      <td>2025-01-05</td>\n",
       "    </tr>\n",
       "    <tr>\n",
       "      <th>154353677</th>\n",
       "      <td>Reduced yesterday</td>\n",
       "      <td>2024-10-29</td>\n",
       "      <td>Now</td>\n",
       "      <td>price_reduced</td>\n",
       "      <td>2025-01-04</td>\n",
       "    </tr>\n",
       "    <tr>\n",
       "      <th>73330880</th>\n",
       "      <td>Reduced yesterday</td>\n",
       "      <td>2018-05-21</td>\n",
       "      <td>06/01/2025</td>\n",
       "      <td>price_reduced</td>\n",
       "      <td>2025-01-04</td>\n",
       "    </tr>\n",
       "  </tbody>\n",
       "</table>\n",
       "<p>413 rows × 5 columns</p>\n",
       "</div>"
      ],
      "text/plain": [
       "                     addedOn firstVisibleDate letAvailableDate  \\\n",
       "id                                                               \n",
       "156527702  Reduced yesterday       2025-01-06              Now   \n",
       "155936288  Reduced yesterday       2024-12-13              Now   \n",
       "155592647  Reduced yesterday       2024-12-02       31/01/2025   \n",
       "155469410  Reduced yesterday       2024-11-28              Now   \n",
       "155834402  Reduced yesterday       2024-12-10       17/02/2025   \n",
       "...                      ...              ...              ...   \n",
       "156532793  Reduced yesterday       2025-01-06       01/02/2025   \n",
       "142689713      Reduced today       2023-12-05              Now   \n",
       "156461729      Reduced today       2025-01-03              Now   \n",
       "154353677  Reduced yesterday       2024-10-29              Now   \n",
       "73330880   Reduced yesterday       2018-05-21       06/01/2025   \n",
       "\n",
       "          listingUpdateReason listingUpdateDate  \n",
       "id                                               \n",
       "156527702       price_reduced        2025-01-06  \n",
       "155936288       price_reduced        2025-01-06  \n",
       "155592647       price_reduced        2025-01-06  \n",
       "155469410       price_reduced        2025-01-06  \n",
       "155834402       price_reduced        2025-01-06  \n",
       "...                       ...               ...  \n",
       "156532793       price_reduced        2025-01-07  \n",
       "142689713       price_reduced        2025-01-08  \n",
       "156461729       price_reduced        2025-01-05  \n",
       "154353677       price_reduced        2025-01-04  \n",
       "73330880        price_reduced        2025-01-04  \n",
       "\n",
       "[413 rows x 5 columns]"
      ]
     },
     "execution_count": 43,
     "metadata": {},
     "output_type": "execute_result"
    }
   ],
   "source": [
    "df2[(df2[\"counter\"]==2) & (df2[\"listingUpdateReason\"]==\"price_reduced\")][time_related]"
   ]
  },
  {
   "cell_type": "markdown",
   "metadata": {},
   "source": [
    "Dates need further investigation,however at this stage of cleaning/missing values its enough"
   ]
  },
  {
   "cell_type": "code",
   "execution_count": 44,
   "metadata": {},
   "outputs": [],
   "source": [
    "del df2"
   ]
  },
  {
   "cell_type": "markdown",
   "metadata": {},
   "source": [
    "## 5. Text columns "
   ]
  },
  {
   "cell_type": "code",
   "execution_count": 45,
   "metadata": {},
   "outputs": [
    {
     "data": {
      "text/html": [
       "<div>\n",
       "<style scoped>\n",
       "    .dataframe tbody tr th:only-of-type {\n",
       "        vertical-align: middle;\n",
       "    }\n",
       "\n",
       "    .dataframe tbody tr th {\n",
       "        vertical-align: top;\n",
       "    }\n",
       "\n",
       "    .dataframe thead th {\n",
       "        text-align: right;\n",
       "    }\n",
       "</style>\n",
       "<table border=\"1\" class=\"dataframe\">\n",
       "  <thead>\n",
       "    <tr style=\"text-align: right;\">\n",
       "      <th></th>\n",
       "      <th>title</th>\n",
       "      <th>description</th>\n",
       "      <th>features</th>\n",
       "    </tr>\n",
       "    <tr>\n",
       "      <th>id</th>\n",
       "      <th></th>\n",
       "      <th></th>\n",
       "      <th></th>\n",
       "    </tr>\n",
       "  </thead>\n",
       "  <tbody>\n",
       "    <tr>\n",
       "      <th>154825190</th>\n",
       "      <td>3 bedroom house for rent in Novello Street, Pa...</td>\n",
       "      <td>SHORT LET. Outstanding 3 bedroom house in Pars...</td>\n",
       "      <td>[Outstanding 3 bedroom house in Parsons Green,...</td>\n",
       "    </tr>\n",
       "    <tr>\n",
       "      <th>155893427</th>\n",
       "      <td>4 bedroom house for rent in Studdridge Street,...</td>\n",
       "      <td>SHORT LET. Stunning 4 bedroom house close to c...</td>\n",
       "      <td>[Stunning 4 bedroom multi-floor house with a b...</td>\n",
       "    </tr>\n",
       "    <tr>\n",
       "      <th>154825184</th>\n",
       "      <td>4 bedroom house for rent in Novello Street, Pa...</td>\n",
       "      <td>SHORT LET. Located on a pretty lane in central...</td>\n",
       "      <td>[Large reception room with fireplace, Kitchen/...</td>\n",
       "    </tr>\n",
       "    <tr>\n",
       "      <th>154274906</th>\n",
       "      <td>6 bedroom terraced house for rent in Ranelagh ...</td>\n",
       "      <td>* SHORT LET *This beautifully refurbished 6-be...</td>\n",
       "      <td>[]</td>\n",
       "    </tr>\n",
       "    <tr>\n",
       "      <th>152063288</th>\n",
       "      <td>5 bedroom penthouse for rent in Compass House,...</td>\n",
       "      <td>ONE OF THE LARGEST PENTHOUSES HERE AT CHELSEA ...</td>\n",
       "      <td>[One Of The Largest Penthouses At Chelsea Cree...</td>\n",
       "    </tr>\n",
       "    <tr>\n",
       "      <th>155916665</th>\n",
       "      <td>5 bedroom detached house for rent in Fulham Pa...</td>\n",
       "      <td>The property features two sensational double r...</td>\n",
       "      <td>[Detached double fronted house, Five bedrooms,...</td>\n",
       "    </tr>\n",
       "    <tr>\n",
       "      <th>152396447</th>\n",
       "      <td>5 bedroom flat for rent in Compass House, \\n5 ...</td>\n",
       "      <td>An unbelievable five bedroom, six-bathroom pen...</td>\n",
       "      <td>[5 bedrooms, 2 reception rooms, 6 bathrooms, L...</td>\n",
       "    </tr>\n",
       "  </tbody>\n",
       "</table>\n",
       "</div>"
      ],
      "text/plain": [
       "                                                       title  \\\n",
       "id                                                             \n",
       "154825190  3 bedroom house for rent in Novello Street, Pa...   \n",
       "155893427  4 bedroom house for rent in Studdridge Street,...   \n",
       "154825184  4 bedroom house for rent in Novello Street, Pa...   \n",
       "154274906  6 bedroom terraced house for rent in Ranelagh ...   \n",
       "152063288  5 bedroom penthouse for rent in Compass House,...   \n",
       "155916665  5 bedroom detached house for rent in Fulham Pa...   \n",
       "152396447  5 bedroom flat for rent in Compass House, \\n5 ...   \n",
       "\n",
       "                                                 description  \\\n",
       "id                                                             \n",
       "154825190  SHORT LET. Outstanding 3 bedroom house in Pars...   \n",
       "155893427  SHORT LET. Stunning 4 bedroom house close to c...   \n",
       "154825184  SHORT LET. Located on a pretty lane in central...   \n",
       "154274906  * SHORT LET *This beautifully refurbished 6-be...   \n",
       "152063288  ONE OF THE LARGEST PENTHOUSES HERE AT CHELSEA ...   \n",
       "155916665  The property features two sensational double r...   \n",
       "152396447  An unbelievable five bedroom, six-bathroom pen...   \n",
       "\n",
       "                                                    features  \n",
       "id                                                            \n",
       "154825190  [Outstanding 3 bedroom house in Parsons Green,...  \n",
       "155893427  [Stunning 4 bedroom multi-floor house with a b...  \n",
       "154825184  [Large reception room with fireplace, Kitchen/...  \n",
       "154274906                                                 []  \n",
       "152063288  [One Of The Largest Penthouses At Chelsea Cree...  \n",
       "155916665  [Detached double fronted house, Five bedrooms,...  \n",
       "152396447  [5 bedrooms, 2 reception rooms, 6 bathrooms, L...  "
      ]
     },
     "execution_count": 45,
     "metadata": {},
     "output_type": "execute_result"
    }
   ],
   "source": [
    "nlp_columns = [\"title\",\"description\",\"features\"]\n",
    "\n",
    "df[nlp_columns].head(7)"
   ]
  },
  {
   "cell_type": "code",
   "execution_count": 46,
   "metadata": {},
   "outputs": [
    {
     "data": {
      "text/plain": [
       "title          0\n",
       "description    0\n",
       "features       0\n",
       "dtype: int64"
      ]
     },
     "execution_count": 46,
     "metadata": {},
     "output_type": "execute_result"
    }
   ],
   "source": [
    "df[nlp_columns].isna().sum()"
   ]
  },
  {
   "cell_type": "code",
   "execution_count": 47,
   "metadata": {},
   "outputs": [
    {
     "data": {
      "text/plain": [
       "title          object\n",
       "description    object\n",
       "features       object\n",
       "dtype: object"
      ]
     },
     "execution_count": 47,
     "metadata": {},
     "output_type": "execute_result"
    }
   ],
   "source": [
    "df[nlp_columns].dtypes"
   ]
  },
  {
   "cell_type": "markdown",
   "metadata": {},
   "source": [
    "Final Pre-Cleaned DataFrame"
   ]
  },
  {
   "cell_type": "code",
   "execution_count": 48,
   "metadata": {},
   "outputs": [
    {
     "data": {
      "text/html": [
       "<div>\n",
       "<style scoped>\n",
       "    .dataframe tbody tr th:only-of-type {\n",
       "        vertical-align: middle;\n",
       "    }\n",
       "\n",
       "    .dataframe tbody tr th {\n",
       "        vertical-align: top;\n",
       "    }\n",
       "\n",
       "    .dataframe thead th {\n",
       "        text-align: right;\n",
       "    }\n",
       "</style>\n",
       "<table border=\"1\" class=\"dataframe\">\n",
       "  <thead>\n",
       "    <tr style=\"text-align: right;\">\n",
       "      <th></th>\n",
       "      <th>title</th>\n",
       "      <th>displayAddress</th>\n",
       "      <th>outcode</th>\n",
       "      <th>incode</th>\n",
       "      <th>bathrooms</th>\n",
       "      <th>bedrooms</th>\n",
       "      <th>propertyType</th>\n",
       "      <th>price</th>\n",
       "      <th>secondaryPrice</th>\n",
       "      <th>letAvailableDate</th>\n",
       "      <th>...</th>\n",
       "      <th>longitude</th>\n",
       "      <th>station_name1</th>\n",
       "      <th>station_name2</th>\n",
       "      <th>station_name3</th>\n",
       "      <th>distance_to_station1</th>\n",
       "      <th>distance_to_station2</th>\n",
       "      <th>distance_to_station3</th>\n",
       "      <th>station_type1</th>\n",
       "      <th>station_type2</th>\n",
       "      <th>station_type3</th>\n",
       "    </tr>\n",
       "    <tr>\n",
       "      <th>id</th>\n",
       "      <th></th>\n",
       "      <th></th>\n",
       "      <th></th>\n",
       "      <th></th>\n",
       "      <th></th>\n",
       "      <th></th>\n",
       "      <th></th>\n",
       "      <th></th>\n",
       "      <th></th>\n",
       "      <th></th>\n",
       "      <th></th>\n",
       "      <th></th>\n",
       "      <th></th>\n",
       "      <th></th>\n",
       "      <th></th>\n",
       "      <th></th>\n",
       "      <th></th>\n",
       "      <th></th>\n",
       "      <th></th>\n",
       "      <th></th>\n",
       "      <th></th>\n",
       "    </tr>\n",
       "  </thead>\n",
       "  <tbody>\n",
       "    <tr>\n",
       "      <th>154825190</th>\n",
       "      <td>3 bedroom house for rent in Novello Street, Pa...</td>\n",
       "      <td>Novello Street, Parsons Green, London, SW6</td>\n",
       "      <td>SW6</td>\n",
       "      <td>4JB</td>\n",
       "      <td>2.0</td>\n",
       "      <td>3.0</td>\n",
       "      <td>House</td>\n",
       "      <td>18633</td>\n",
       "      <td>4300</td>\n",
       "      <td>Ask agent</td>\n",
       "      <td>...</td>\n",
       "      <td>-0.199436</td>\n",
       "      <td>Parsons Green Station</td>\n",
       "      <td>Fulham Broadway Station</td>\n",
       "      <td>Imperial Wharf Station</td>\n",
       "      <td>0.086670</td>\n",
       "      <td>0.375000</td>\n",
       "      <td>0.713867</td>\n",
       "      <td>[LONDON_UNDERGROUND]</td>\n",
       "      <td>[LONDON_UNDERGROUND]</td>\n",
       "      <td>[NATIONAL_TRAIN]</td>\n",
       "    </tr>\n",
       "    <tr>\n",
       "      <th>155893427</th>\n",
       "      <td>4 bedroom house for rent in Studdridge Street,...</td>\n",
       "      <td>Studdridge Street, Fulham, London, SW6</td>\n",
       "      <td>SW6</td>\n",
       "      <td>3SL</td>\n",
       "      <td>4.0</td>\n",
       "      <td>4.0</td>\n",
       "      <td>House</td>\n",
       "      <td>13000</td>\n",
       "      <td>3000</td>\n",
       "      <td>Ask agent</td>\n",
       "      <td>...</td>\n",
       "      <td>-0.193479</td>\n",
       "      <td>Parsons Green Station</td>\n",
       "      <td>Imperial Wharf Station</td>\n",
       "      <td>Fulham Broadway Station</td>\n",
       "      <td>0.400879</td>\n",
       "      <td>0.496338</td>\n",
       "      <td>0.583984</td>\n",
       "      <td>[LONDON_UNDERGROUND]</td>\n",
       "      <td>[NATIONAL_TRAIN]</td>\n",
       "      <td>[LONDON_UNDERGROUND]</td>\n",
       "    </tr>\n",
       "    <tr>\n",
       "      <th>154825184</th>\n",
       "      <td>4 bedroom house for rent in Novello Street, Pa...</td>\n",
       "      <td>Novello Street, Parsons Green, London, SW6</td>\n",
       "      <td>SW6</td>\n",
       "      <td>4JB</td>\n",
       "      <td>2.0</td>\n",
       "      <td>4.0</td>\n",
       "      <td>House</td>\n",
       "      <td>14300</td>\n",
       "      <td>3300</td>\n",
       "      <td>Ask agent</td>\n",
       "      <td>...</td>\n",
       "      <td>-0.199436</td>\n",
       "      <td>Parsons Green Station</td>\n",
       "      <td>Fulham Broadway Station</td>\n",
       "      <td>Imperial Wharf Station</td>\n",
       "      <td>0.086670</td>\n",
       "      <td>0.375000</td>\n",
       "      <td>0.713867</td>\n",
       "      <td>[LONDON_UNDERGROUND]</td>\n",
       "      <td>[LONDON_UNDERGROUND]</td>\n",
       "      <td>[NATIONAL_TRAIN]</td>\n",
       "    </tr>\n",
       "    <tr>\n",
       "      <th>154274906</th>\n",
       "      <td>6 bedroom terraced house for rent in Ranelagh ...</td>\n",
       "      <td>Ranelagh Avenue, \\nHurlingham, SW6</td>\n",
       "      <td>SW6</td>\n",
       "      <td>3PJ</td>\n",
       "      <td>3.0</td>\n",
       "      <td>6.0</td>\n",
       "      <td>Terraced</td>\n",
       "      <td>15000</td>\n",
       "      <td>3462</td>\n",
       "      <td>Now</td>\n",
       "      <td>...</td>\n",
       "      <td>-0.206303</td>\n",
       "      <td>Putney Bridge Station</td>\n",
       "      <td>Parsons Green Station</td>\n",
       "      <td>Putney Station</td>\n",
       "      <td>0.140991</td>\n",
       "      <td>0.488037</td>\n",
       "      <td>0.699707</td>\n",
       "      <td>[LONDON_UNDERGROUND]</td>\n",
       "      <td>[LONDON_UNDERGROUND]</td>\n",
       "      <td>[NATIONAL_TRAIN]</td>\n",
       "    </tr>\n",
       "    <tr>\n",
       "      <th>152063288</th>\n",
       "      <td>5 bedroom penthouse for rent in Compass House,...</td>\n",
       "      <td>Compass House, Chelsea Creek, Fulham, SW6</td>\n",
       "      <td>SW6</td>\n",
       "      <td>2FB</td>\n",
       "      <td>6.0</td>\n",
       "      <td>5.0</td>\n",
       "      <td>Penthouse</td>\n",
       "      <td>14998</td>\n",
       "      <td>3461</td>\n",
       "      <td>Now</td>\n",
       "      <td>...</td>\n",
       "      <td>-0.185162</td>\n",
       "      <td>Imperial Wharf Station</td>\n",
       "      <td>Fulham Broadway Station</td>\n",
       "      <td>Parsons Green Station</td>\n",
       "      <td>0.099426</td>\n",
       "      <td>0.550781</td>\n",
       "      <td>0.694336</td>\n",
       "      <td>[NATIONAL_TRAIN]</td>\n",
       "      <td>[LONDON_UNDERGROUND]</td>\n",
       "      <td>[LONDON_UNDERGROUND]</td>\n",
       "    </tr>\n",
       "    <tr>\n",
       "      <th>...</th>\n",
       "      <td>...</td>\n",
       "      <td>...</td>\n",
       "      <td>...</td>\n",
       "      <td>...</td>\n",
       "      <td>...</td>\n",
       "      <td>...</td>\n",
       "      <td>...</td>\n",
       "      <td>...</td>\n",
       "      <td>...</td>\n",
       "      <td>...</td>\n",
       "      <td>...</td>\n",
       "      <td>...</td>\n",
       "      <td>...</td>\n",
       "      <td>...</td>\n",
       "      <td>...</td>\n",
       "      <td>...</td>\n",
       "      <td>...</td>\n",
       "      <td>...</td>\n",
       "      <td>...</td>\n",
       "      <td>...</td>\n",
       "      <td>...</td>\n",
       "    </tr>\n",
       "    <tr>\n",
       "      <th>156015842</th>\n",
       "      <td>1 bedroom penthouse for rent in Elizabeth Hous...</td>\n",
       "      <td>Elizabeth House, London, HA9</td>\n",
       "      <td>HA9</td>\n",
       "      <td>6DB</td>\n",
       "      <td>1.0</td>\n",
       "      <td>1.0</td>\n",
       "      <td>Penthouse</td>\n",
       "      <td>1825</td>\n",
       "      <td>421</td>\n",
       "      <td>Now</td>\n",
       "      <td>...</td>\n",
       "      <td>-0.287843</td>\n",
       "      <td>Wembley Stadium Station</td>\n",
       "      <td>Wembley Central Station</td>\n",
       "      <td>Wembley Park Station</td>\n",
       "      <td>0.126709</td>\n",
       "      <td>0.369385</td>\n",
       "      <td>0.789551</td>\n",
       "      <td>[NATIONAL_TRAIN]</td>\n",
       "      <td>[NATIONAL_TRAIN, LONDON_UNDERGROUND, LONDON_OV...</td>\n",
       "      <td>[LONDON_UNDERGROUND]</td>\n",
       "    </tr>\n",
       "    <tr>\n",
       "      <th>152958695</th>\n",
       "      <td>2 bedroom flat for rent in Matthews Close, Wem...</td>\n",
       "      <td>Matthews Close, Wembley Park, Wembley, HA9</td>\n",
       "      <td>HA9</td>\n",
       "      <td>8FG</td>\n",
       "      <td>2.0</td>\n",
       "      <td>2.0</td>\n",
       "      <td>Flat</td>\n",
       "      <td>3640</td>\n",
       "      <td>840</td>\n",
       "      <td>Ask agent</td>\n",
       "      <td>...</td>\n",
       "      <td>-0.284004</td>\n",
       "      <td>Wembley Park Station</td>\n",
       "      <td>Preston Road Station</td>\n",
       "      <td>Wembley Stadium Station</td>\n",
       "      <td>0.227295</td>\n",
       "      <td>0.713379</td>\n",
       "      <td>0.703613</td>\n",
       "      <td>[LONDON_UNDERGROUND]</td>\n",
       "      <td>[LONDON_UNDERGROUND]</td>\n",
       "      <td>[NATIONAL_TRAIN]</td>\n",
       "    </tr>\n",
       "    <tr>\n",
       "      <th>152955419</th>\n",
       "      <td>2 bedroom flat for rent in Matthews Close, Wem...</td>\n",
       "      <td>Matthews Close, Wembley Park, Wembley, HA9</td>\n",
       "      <td>HA9</td>\n",
       "      <td>8FD</td>\n",
       "      <td>2.0</td>\n",
       "      <td>2.0</td>\n",
       "      <td>Flat</td>\n",
       "      <td>4000</td>\n",
       "      <td>923</td>\n",
       "      <td>Ask agent</td>\n",
       "      <td>...</td>\n",
       "      <td>-0.283130</td>\n",
       "      <td>Wembley Park Station</td>\n",
       "      <td>Wembley Stadium Station</td>\n",
       "      <td>Preston Road Station</td>\n",
       "      <td>0.177368</td>\n",
       "      <td>0.672363</td>\n",
       "      <td>0.767090</td>\n",
       "      <td>[LONDON_UNDERGROUND]</td>\n",
       "      <td>[NATIONAL_TRAIN]</td>\n",
       "      <td>[LONDON_UNDERGROUND]</td>\n",
       "    </tr>\n",
       "    <tr>\n",
       "      <th>147232748</th>\n",
       "      <td>2 bedroom flat for rent in Park Lane, Wembley,...</td>\n",
       "      <td>Park Lane, Wembley, Middlesex, HA9</td>\n",
       "      <td>HA9</td>\n",
       "      <td>7RH</td>\n",
       "      <td>2.0</td>\n",
       "      <td>2.0</td>\n",
       "      <td>Flat</td>\n",
       "      <td>2450</td>\n",
       "      <td>565</td>\n",
       "      <td>Ask agent</td>\n",
       "      <td>...</td>\n",
       "      <td>-0.292910</td>\n",
       "      <td>Wembley Central Station</td>\n",
       "      <td>Wembley Stadium Station</td>\n",
       "      <td>North Wembley Station</td>\n",
       "      <td>0.189453</td>\n",
       "      <td>0.296143</td>\n",
       "      <td>0.771973</td>\n",
       "      <td>[NATIONAL_TRAIN, LONDON_UNDERGROUND, LONDON_OV...</td>\n",
       "      <td>[NATIONAL_TRAIN]</td>\n",
       "      <td>[LONDON_UNDERGROUND, LONDON_OVERGROUND]</td>\n",
       "    </tr>\n",
       "    <tr>\n",
       "      <th>155503607</th>\n",
       "      <td>2 bedroom flat for rent in Bowery, London, HA9</td>\n",
       "      <td>Bowery, London, HA9</td>\n",
       "      <td>HA9</td>\n",
       "      <td>0PZ</td>\n",
       "      <td>1.0</td>\n",
       "      <td>2.0</td>\n",
       "      <td>Flat</td>\n",
       "      <td>1877</td>\n",
       "      <td>433</td>\n",
       "      <td>Now</td>\n",
       "      <td>...</td>\n",
       "      <td>-0.277490</td>\n",
       "      <td>Wembley Park Station</td>\n",
       "      <td>Wembley Stadium Station</td>\n",
       "      <td>Wembley Central Station</td>\n",
       "      <td>0.413330</td>\n",
       "      <td>0.417480</td>\n",
       "      <td>0.884277</td>\n",
       "      <td>[LONDON_UNDERGROUND]</td>\n",
       "      <td>[NATIONAL_TRAIN]</td>\n",
       "      <td>[NATIONAL_TRAIN, LONDON_UNDERGROUND, LONDON_OV...</td>\n",
       "    </tr>\n",
       "  </tbody>\n",
       "</table>\n",
       "<p>30068 rows × 35 columns</p>\n",
       "</div>"
      ],
      "text/plain": [
       "                                                       title  \\\n",
       "id                                                             \n",
       "154825190  3 bedroom house for rent in Novello Street, Pa...   \n",
       "155893427  4 bedroom house for rent in Studdridge Street,...   \n",
       "154825184  4 bedroom house for rent in Novello Street, Pa...   \n",
       "154274906  6 bedroom terraced house for rent in Ranelagh ...   \n",
       "152063288  5 bedroom penthouse for rent in Compass House,...   \n",
       "...                                                      ...   \n",
       "156015842  1 bedroom penthouse for rent in Elizabeth Hous...   \n",
       "152958695  2 bedroom flat for rent in Matthews Close, Wem...   \n",
       "152955419  2 bedroom flat for rent in Matthews Close, Wem...   \n",
       "147232748  2 bedroom flat for rent in Park Lane, Wembley,...   \n",
       "155503607     2 bedroom flat for rent in Bowery, London, HA9   \n",
       "\n",
       "                                       displayAddress outcode incode  \\\n",
       "id                                                                     \n",
       "154825190  Novello Street, Parsons Green, London, SW6     SW6    4JB   \n",
       "155893427      Studdridge Street, Fulham, London, SW6     SW6    3SL   \n",
       "154825184  Novello Street, Parsons Green, London, SW6     SW6    4JB   \n",
       "154274906          Ranelagh Avenue, \\nHurlingham, SW6     SW6    3PJ   \n",
       "152063288   Compass House, Chelsea Creek, Fulham, SW6     SW6    2FB   \n",
       "...                                               ...     ...    ...   \n",
       "156015842                Elizabeth House, London, HA9     HA9    6DB   \n",
       "152958695  Matthews Close, Wembley Park, Wembley, HA9     HA9    8FG   \n",
       "152955419  Matthews Close, Wembley Park, Wembley, HA9     HA9    8FD   \n",
       "147232748          Park Lane, Wembley, Middlesex, HA9     HA9    7RH   \n",
       "155503607                         Bowery, London, HA9     HA9    0PZ   \n",
       "\n",
       "           bathrooms  bedrooms propertyType  price  secondaryPrice  \\\n",
       "id                                                                   \n",
       "154825190        2.0       3.0        House  18633            4300   \n",
       "155893427        4.0       4.0        House  13000            3000   \n",
       "154825184        2.0       4.0        House  14300            3300   \n",
       "154274906        3.0       6.0     Terraced  15000            3462   \n",
       "152063288        6.0       5.0    Penthouse  14998            3461   \n",
       "...              ...       ...          ...    ...             ...   \n",
       "156015842        1.0       1.0    Penthouse   1825             421   \n",
       "152958695        2.0       2.0         Flat   3640             840   \n",
       "152955419        2.0       2.0         Flat   4000             923   \n",
       "147232748        2.0       2.0         Flat   2450             565   \n",
       "155503607        1.0       2.0         Flat   1877             433   \n",
       "\n",
       "          letAvailableDate  ...  longitude            station_name1  \\\n",
       "id                          ...                                       \n",
       "154825190        Ask agent  ...  -0.199436    Parsons Green Station   \n",
       "155893427        Ask agent  ...  -0.193479    Parsons Green Station   \n",
       "154825184        Ask agent  ...  -0.199436    Parsons Green Station   \n",
       "154274906              Now  ...  -0.206303    Putney Bridge Station   \n",
       "152063288              Now  ...  -0.185162   Imperial Wharf Station   \n",
       "...                    ...  ...        ...                      ...   \n",
       "156015842              Now  ...  -0.287843  Wembley Stadium Station   \n",
       "152958695        Ask agent  ...  -0.284004     Wembley Park Station   \n",
       "152955419        Ask agent  ...  -0.283130     Wembley Park Station   \n",
       "147232748        Ask agent  ...  -0.292910  Wembley Central Station   \n",
       "155503607              Now  ...  -0.277490     Wembley Park Station   \n",
       "\n",
       "                     station_name2            station_name3  \\\n",
       "id                                                            \n",
       "154825190  Fulham Broadway Station   Imperial Wharf Station   \n",
       "155893427   Imperial Wharf Station  Fulham Broadway Station   \n",
       "154825184  Fulham Broadway Station   Imperial Wharf Station   \n",
       "154274906    Parsons Green Station           Putney Station   \n",
       "152063288  Fulham Broadway Station    Parsons Green Station   \n",
       "...                            ...                      ...   \n",
       "156015842  Wembley Central Station     Wembley Park Station   \n",
       "152958695     Preston Road Station  Wembley Stadium Station   \n",
       "152955419  Wembley Stadium Station     Preston Road Station   \n",
       "147232748  Wembley Stadium Station    North Wembley Station   \n",
       "155503607  Wembley Stadium Station  Wembley Central Station   \n",
       "\n",
       "           distance_to_station1 distance_to_station2 distance_to_station3  \\\n",
       "id                                                                          \n",
       "154825190              0.086670             0.375000             0.713867   \n",
       "155893427              0.400879             0.496338             0.583984   \n",
       "154825184              0.086670             0.375000             0.713867   \n",
       "154274906              0.140991             0.488037             0.699707   \n",
       "152063288              0.099426             0.550781             0.694336   \n",
       "...                         ...                  ...                  ...   \n",
       "156015842              0.126709             0.369385             0.789551   \n",
       "152958695              0.227295             0.713379             0.703613   \n",
       "152955419              0.177368             0.672363             0.767090   \n",
       "147232748              0.189453             0.296143             0.771973   \n",
       "155503607              0.413330             0.417480             0.884277   \n",
       "\n",
       "                                               station_type1  \\\n",
       "id                                                             \n",
       "154825190                               [LONDON_UNDERGROUND]   \n",
       "155893427                               [LONDON_UNDERGROUND]   \n",
       "154825184                               [LONDON_UNDERGROUND]   \n",
       "154274906                               [LONDON_UNDERGROUND]   \n",
       "152063288                                   [NATIONAL_TRAIN]   \n",
       "...                                                      ...   \n",
       "156015842                                   [NATIONAL_TRAIN]   \n",
       "152958695                               [LONDON_UNDERGROUND]   \n",
       "152955419                               [LONDON_UNDERGROUND]   \n",
       "147232748  [NATIONAL_TRAIN, LONDON_UNDERGROUND, LONDON_OV...   \n",
       "155503607                               [LONDON_UNDERGROUND]   \n",
       "\n",
       "                                               station_type2  \\\n",
       "id                                                             \n",
       "154825190                               [LONDON_UNDERGROUND]   \n",
       "155893427                                   [NATIONAL_TRAIN]   \n",
       "154825184                               [LONDON_UNDERGROUND]   \n",
       "154274906                               [LONDON_UNDERGROUND]   \n",
       "152063288                               [LONDON_UNDERGROUND]   \n",
       "...                                                      ...   \n",
       "156015842  [NATIONAL_TRAIN, LONDON_UNDERGROUND, LONDON_OV...   \n",
       "152958695                               [LONDON_UNDERGROUND]   \n",
       "152955419                                   [NATIONAL_TRAIN]   \n",
       "147232748                                   [NATIONAL_TRAIN]   \n",
       "155503607                                   [NATIONAL_TRAIN]   \n",
       "\n",
       "                                               station_type3  \n",
       "id                                                            \n",
       "154825190                                   [NATIONAL_TRAIN]  \n",
       "155893427                               [LONDON_UNDERGROUND]  \n",
       "154825184                                   [NATIONAL_TRAIN]  \n",
       "154274906                                   [NATIONAL_TRAIN]  \n",
       "152063288                               [LONDON_UNDERGROUND]  \n",
       "...                                                      ...  \n",
       "156015842                               [LONDON_UNDERGROUND]  \n",
       "152958695                                   [NATIONAL_TRAIN]  \n",
       "152955419                               [LONDON_UNDERGROUND]  \n",
       "147232748            [LONDON_UNDERGROUND, LONDON_OVERGROUND]  \n",
       "155503607  [NATIONAL_TRAIN, LONDON_UNDERGROUND, LONDON_OV...  \n",
       "\n",
       "[30068 rows x 35 columns]"
      ]
     },
     "execution_count": 48,
     "metadata": {},
     "output_type": "execute_result"
    }
   ],
   "source": [
    "df"
   ]
  },
  {
   "cell_type": "code",
   "execution_count": 49,
   "metadata": {},
   "outputs": [],
   "source": [
    "df.to_parquet(\"../data/processed/rent_london.parquet\")"
   ]
  },
  {
   "cell_type": "markdown",
   "metadata": {},
   "source": []
  }
 ],
 "metadata": {
  "kernelspec": {
   "display_name": ".rent_env",
   "language": "python",
   "name": "python3"
  },
  "language_info": {
   "codemirror_mode": {
    "name": "ipython",
    "version": 3
   },
   "file_extension": ".py",
   "mimetype": "text/x-python",
   "name": "python",
   "nbconvert_exporter": "python",
   "pygments_lexer": "ipython3",
   "version": "3.10.16"
  }
 },
 "nbformat": 4,
 "nbformat_minor": 2
}
